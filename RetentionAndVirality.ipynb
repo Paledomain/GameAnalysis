{
 "cells": [
  {
   "cell_type": "markdown",
   "metadata": {},
   "source": [
    "This notebook demonstrates the effect of churn and virality on one's playerbase.\n"
   ]
  },
  {
   "cell_type": "code",
   "execution_count": null,
   "metadata": {},
   "outputs": [],
   "source": [
    "#Import basic math and visualization tools\n",
    "import numpy as np\n",
    "import matplotlib.pyplot as pp"
   ]
  },
  {
   "cell_type": "code",
   "execution_count": null,
   "metadata": {},
   "outputs": [],
   "source": [
    "#Parameters\n",
    "players=10\n",
    "simulatedDays=100\n",
    "churnProbability=0.0\n",
    "viralityProbability=0.1\n",
    "\n",
    "#placeholder for visualized data\n",
    "data=np.zeros(simulatedDays)\n",
    "\n",
    "#simulate\n",
    "for i in range(simulatedDays):\n",
    "    data[i]=players\n",
    "    #some players churn, some really like the game and recruit new players\n",
    "    players=players - players*churnProbability + players*viralityProbability\n",
    "    \n",
    "#plot\n",
    "pp.plot(data)\n",
    "pp.xlabel(\"Days\")\n",
    "pp.ylabel(\"Players\")"
   ]
  },
  {
   "cell_type": "code",
   "execution_count": null,
   "metadata": {},
   "outputs": [],
   "source": []
  }
 ],
 "metadata": {
  "kernelspec": {
   "display_name": "tensorflow2env",
   "language": "python",
   "name": "tensorflow2env"
  },
  "language_info": {
   "codemirror_mode": {
    "name": "ipython",
    "version": 3
   },
   "file_extension": ".py",
   "mimetype": "text/x-python",
   "name": "python",
   "nbconvert_exporter": "python",
   "pygments_lexer": "ipython3",
   "version": "3.5.4"
  }
 },
 "nbformat": 4,
 "nbformat_minor": 2
}
