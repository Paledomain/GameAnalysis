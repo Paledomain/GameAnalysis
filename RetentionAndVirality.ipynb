{
  "nbformat": 4,
  "nbformat_minor": 0,
  "metadata": {
    "kernelspec": {
      "display_name": "tensorflow2env",
      "language": "python",
      "name": "tensorflow2env"
    },
    "language_info": {
      "codemirror_mode": {
        "name": "ipython",
        "version": 3
      },
      "file_extension": ".py",
      "mimetype": "text/x-python",
      "name": "python",
      "nbconvert_exporter": "python",
      "pygments_lexer": "ipython3",
      "version": "3.5.4"
    },
    "colab": {
      "name": "RetentionAndVirality.ipynb",
      "provenance": [],
      "collapsed_sections": [
        "vdvsO1mpS5Ul",
        "sbW2Uqk1S5Ul",
        "d7Z6iISeS5Um",
        "bZXS_6R1S5Uo",
        "tKHRuxvoT8Th"
      ]
    },
    "widgets": {
      "application/vnd.jupyter.widget-state+json": {
        "f63b19e1782b4507ab799152218806d7": {
          "model_module": "@jupyter-widgets/controls",
          "model_name": "VBoxModel",
          "state": {
            "_view_name": "VBoxView",
            "_dom_classes": [
              "widget-interact"
            ],
            "_model_name": "VBoxModel",
            "_view_module": "@jupyter-widgets/controls",
            "_model_module_version": "1.5.0",
            "_view_count": null,
            "_view_module_version": "1.5.0",
            "box_style": "",
            "layout": "IPY_MODEL_ae122fec28164b4887d55976670553b4",
            "_model_module": "@jupyter-widgets/controls",
            "children": [
              "IPY_MODEL_9a4b565b7f0c40d4b66522de50234454",
              "IPY_MODEL_924732d1dbf04fc1818f6f5ff9b7ba53"
            ]
          }
        },
        "ae122fec28164b4887d55976670553b4": {
          "model_module": "@jupyter-widgets/base",
          "model_name": "LayoutModel",
          "state": {
            "_view_name": "LayoutView",
            "grid_template_rows": null,
            "right": null,
            "justify_content": null,
            "_view_module": "@jupyter-widgets/base",
            "overflow": null,
            "_model_module_version": "1.2.0",
            "_view_count": null,
            "flex_flow": null,
            "width": null,
            "min_width": null,
            "border": null,
            "align_items": null,
            "bottom": null,
            "_model_module": "@jupyter-widgets/base",
            "top": null,
            "grid_column": null,
            "overflow_y": null,
            "overflow_x": null,
            "grid_auto_flow": null,
            "grid_area": null,
            "grid_template_columns": null,
            "flex": null,
            "_model_name": "LayoutModel",
            "justify_items": null,
            "grid_row": null,
            "max_height": null,
            "align_content": null,
            "visibility": null,
            "align_self": null,
            "height": null,
            "min_height": null,
            "padding": null,
            "grid_auto_rows": null,
            "grid_gap": null,
            "max_width": null,
            "order": null,
            "_view_module_version": "1.2.0",
            "grid_template_areas": null,
            "object_position": null,
            "object_fit": null,
            "grid_auto_columns": null,
            "margin": null,
            "display": null,
            "left": null
          }
        },
        "9a4b565b7f0c40d4b66522de50234454": {
          "model_module": "@jupyter-widgets/controls",
          "model_name": "FloatSliderModel",
          "state": {
            "_view_name": "FloatSliderView",
            "style": "IPY_MODEL_0517463d29e34488b089f489bf887df6",
            "_dom_classes": [],
            "description": "viralityProbability",
            "step": 0.01,
            "_model_name": "FloatSliderModel",
            "orientation": "horizontal",
            "max": 1,
            "_view_module": "@jupyter-widgets/controls",
            "_model_module_version": "1.5.0",
            "value": 0.05,
            "_view_count": null,
            "disabled": false,
            "_view_module_version": "1.5.0",
            "min": 0,
            "continuous_update": true,
            "readout_format": ".2f",
            "description_tooltip": null,
            "readout": true,
            "_model_module": "@jupyter-widgets/controls",
            "layout": "IPY_MODEL_2ecb1f917d794e5db8e6e65ef3ed784f"
          }
        },
        "924732d1dbf04fc1818f6f5ff9b7ba53": {
          "model_module": "@jupyter-widgets/output",
          "model_name": "OutputModel",
          "state": {
            "_view_name": "OutputView",
            "msg_id": "",
            "_dom_classes": [],
            "_model_name": "OutputModel",
            "outputs": [
              {
                "output_type": "display_data",
                "metadata": {
                  "tags": [],
                  "needs_background": "light"
                },
                "image/png": "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\n",
                "text/plain": "<Figure size 432x288 with 1 Axes>"
              }
            ],
            "_view_module": "@jupyter-widgets/output",
            "_model_module_version": "1.0.0",
            "_view_count": null,
            "_view_module_version": "1.0.0",
            "layout": "IPY_MODEL_3188256e4a4d40dda01b2c8a662b8648",
            "_model_module": "@jupyter-widgets/output"
          }
        },
        "0517463d29e34488b089f489bf887df6": {
          "model_module": "@jupyter-widgets/controls",
          "model_name": "SliderStyleModel",
          "state": {
            "_view_name": "StyleView",
            "handle_color": null,
            "_model_name": "SliderStyleModel",
            "description_width": "",
            "_view_module": "@jupyter-widgets/base",
            "_model_module_version": "1.5.0",
            "_view_count": null,
            "_view_module_version": "1.2.0",
            "_model_module": "@jupyter-widgets/controls"
          }
        },
        "2ecb1f917d794e5db8e6e65ef3ed784f": {
          "model_module": "@jupyter-widgets/base",
          "model_name": "LayoutModel",
          "state": {
            "_view_name": "LayoutView",
            "grid_template_rows": null,
            "right": null,
            "justify_content": null,
            "_view_module": "@jupyter-widgets/base",
            "overflow": null,
            "_model_module_version": "1.2.0",
            "_view_count": null,
            "flex_flow": null,
            "width": null,
            "min_width": null,
            "border": null,
            "align_items": null,
            "bottom": null,
            "_model_module": "@jupyter-widgets/base",
            "top": null,
            "grid_column": null,
            "overflow_y": null,
            "overflow_x": null,
            "grid_auto_flow": null,
            "grid_area": null,
            "grid_template_columns": null,
            "flex": null,
            "_model_name": "LayoutModel",
            "justify_items": null,
            "grid_row": null,
            "max_height": null,
            "align_content": null,
            "visibility": null,
            "align_self": null,
            "height": null,
            "min_height": null,
            "padding": null,
            "grid_auto_rows": null,
            "grid_gap": null,
            "max_width": null,
            "order": null,
            "_view_module_version": "1.2.0",
            "grid_template_areas": null,
            "object_position": null,
            "object_fit": null,
            "grid_auto_columns": null,
            "margin": null,
            "display": null,
            "left": null
          }
        },
        "3188256e4a4d40dda01b2c8a662b8648": {
          "model_module": "@jupyter-widgets/base",
          "model_name": "LayoutModel",
          "state": {
            "_view_name": "LayoutView",
            "grid_template_rows": null,
            "right": null,
            "justify_content": null,
            "_view_module": "@jupyter-widgets/base",
            "overflow": null,
            "_model_module_version": "1.2.0",
            "_view_count": null,
            "flex_flow": null,
            "width": null,
            "min_width": null,
            "border": null,
            "align_items": null,
            "bottom": null,
            "_model_module": "@jupyter-widgets/base",
            "top": null,
            "grid_column": null,
            "overflow_y": null,
            "overflow_x": null,
            "grid_auto_flow": null,
            "grid_area": null,
            "grid_template_columns": null,
            "flex": null,
            "_model_name": "LayoutModel",
            "justify_items": null,
            "grid_row": null,
            "max_height": null,
            "align_content": null,
            "visibility": null,
            "align_self": null,
            "height": null,
            "min_height": null,
            "padding": null,
            "grid_auto_rows": null,
            "grid_gap": null,
            "max_width": null,
            "order": null,
            "_view_module_version": "1.2.0",
            "grid_template_areas": null,
            "object_position": null,
            "object_fit": null,
            "grid_auto_columns": null,
            "margin": null,
            "display": null,
            "left": null
          }
        }
      }
    }
  },
  "cells": [
    {
      "cell_type": "markdown",
      "metadata": {
        "id": "Lf5YM8uTS5Uk"
      },
      "source": [
        "### Game analysis: churn, virality, monetization\n",
        "\n",
        "This Colab notebook demonstrates the effect of churn and virality on one's playerbase and concludes with a monetization forecasting simulation for a hypothetical game company. It also serves as a tutorial on python programming and data plotting for those only familiar with Unity & C#. \n",
        "\n",
        "**Learning goals:** Understanding basics of Colab notebooks and Python. Understanding how simple recursive dependencies can lead to exponential growth or decay. Understanding how recurrent revenue (e.g., monetization through in-app purchases) and investing game revenue in user acquisition are vital in making a game company profitable.\n",
        "\n",
        "**How to use:** Students should proceed section by section, reading the code and doing the exercises. Click on the triangle on the left of a section header to view the contents. \n",
        "\n",
        "*The exercises contain model solutions, but these are hidden by default. One should view it only after first trying to complete the exercises without help.* \n"
      ]
    },
    {
      "cell_type": "markdown",
      "metadata": {
        "id": "vdvsO1mpS5Ul"
      },
      "source": [
        "### Getting started\n",
        "\n",
        "Usually, every Colab notebook starts by importing some basic tools such as numpy (numerical computation such as linear algebra) and pyplot (data visualization). This is similar to C++ \"include\" or C# \"using\". Python also allows defining shorthand names for the packages using the \"as\" keyword."
      ]
    },
    {
      "cell_type": "code",
      "metadata": {
        "id": "AOfoR20US5Ul"
      },
      "source": [
        "import numpy as np\n",
        "import matplotlib.pyplot as plt"
      ],
      "execution_count": null,
      "outputs": []
    },
    {
      "cell_type": "markdown",
      "metadata": {
        "id": "sbW2Uqk1S5Ul"
      },
      "source": [
        "### Basic recursion \n",
        "\n",
        "First, let's write a very simple simulation of how each player might recruit new players virally with some probability, e.g., by sharing on social media\n"
      ]
    },
    {
      "cell_type": "code",
      "metadata": {
        "colab": {
          "base_uri": "https://localhost:8080/"
        },
        "id": "-kOWqFGaS5Ul",
        "outputId": "1d55cbaa-3a35-4ead-85b8-241314abb094"
      },
      "source": [
        "players=1000\n",
        "viralityProbability=0.1\n",
        "for i in range(20):\n",
        "    players=players + viralityProbability*players\n",
        "    print(players)"
      ],
      "execution_count": null,
      "outputs": [
        {
          "output_type": "stream",
          "text": [
            "1100.0\n",
            "1210.0\n",
            "1331.0\n",
            "1464.1\n",
            "1610.51\n",
            "1771.561\n",
            "1948.7170999999998\n",
            "2143.5888099999997\n",
            "2357.947691\n",
            "2593.7424601\n",
            "2853.1167061099995\n",
            "3138.4283767209995\n",
            "3452.2712143930994\n",
            "3797.4983358324093\n",
            "4177.24816941565\n",
            "4594.972986357216\n",
            "5054.470284992937\n",
            "5559.917313492231\n",
            "6115.9090448414545\n",
            "6727.4999493256\n"
          ],
          "name": "stdout"
        }
      ]
    },
    {
      "cell_type": "markdown",
      "metadata": {
        "id": "wtvEsOyeS5Um"
      },
      "source": [
        "Let's do the same but practice formatting the printout in a bit more informative manner"
      ]
    },
    {
      "cell_type": "code",
      "metadata": {
        "colab": {
          "base_uri": "https://localhost:8080/"
        },
        "id": "gUuhbO_SS5Um",
        "outputId": "b62e6635-196d-4b91-fafc-8b335db9915f"
      },
      "source": [
        "players=1000\n",
        "viralityProbability=0.1\n",
        "for i in range(20):\n",
        "    players=players + viralityProbability*players\n",
        "    print(\"Day {}, current players {}\".format(i,players))"
      ],
      "execution_count": null,
      "outputs": [
        {
          "output_type": "stream",
          "text": [
            "Day 0, current players 1100.0\n",
            "Day 1, current players 1210.0\n",
            "Day 2, current players 1331.0\n",
            "Day 3, current players 1464.1\n",
            "Day 4, current players 1610.51\n",
            "Day 5, current players 1771.561\n",
            "Day 6, current players 1948.7170999999998\n",
            "Day 7, current players 2143.5888099999997\n",
            "Day 8, current players 2357.947691\n",
            "Day 9, current players 2593.7424601\n",
            "Day 10, current players 2853.1167061099995\n",
            "Day 11, current players 3138.4283767209995\n",
            "Day 12, current players 3452.2712143930994\n",
            "Day 13, current players 3797.4983358324093\n",
            "Day 14, current players 4177.24816941565\n",
            "Day 15, current players 4594.972986357216\n",
            "Day 16, current players 5054.470284992937\n",
            "Day 17, current players 5559.917313492231\n",
            "Day 18, current players 6115.9090448414545\n",
            "Day 19, current players 6727.4999493256\n"
          ],
          "name": "stdout"
        }
      ]
    },
    {
      "cell_type": "markdown",
      "metadata": {
        "id": "d7Z6iISeS5Um"
      },
      "source": [
        "### Plotting\n",
        "\n",
        "An alternative to printing out results is visualizing the data. For this, we define a Python list called \"data\" and add the player counts of each simulation step to the list. After this, one can simply call PyPlot's plt() function."
      ]
    },
    {
      "cell_type": "code",
      "metadata": {
        "colab": {
          "base_uri": "https://localhost:8080/",
          "height": 309
        },
        "id": "HtxUTYEDS5Un",
        "outputId": "58bfa67b-e81c-4153-af39-3563e032691d"
      },
      "source": [
        "#Parameters\n",
        "players=1000\n",
        "viralityProbability=0.1\n",
        "\n",
        "#Empty Python list, simulation data will be added to this\n",
        "data=[]\n",
        "\n",
        "#Simulation loop \n",
        "for i in range(100):\n",
        "    #store this day's player count for plotting\n",
        "    data.append(players)\n",
        "    #simulate\n",
        "    players=players + viralityProbability*players\n",
        "    \n",
        "#plot\n",
        "plt.plot(data)\n",
        "plt.xlabel(\"Days\")\n",
        "plt.ylabel(\"Players\")"
      ],
      "execution_count": null,
      "outputs": [
        {
          "output_type": "execute_result",
          "data": {
            "text/plain": [
              "Text(0, 0.5, 'Players')"
            ]
          },
          "metadata": {
            "tags": []
          },
          "execution_count": 36
        },
        {
          "output_type": "display_data",
          "data": {
            "image/png": "[encoded data removed]",
            "text/plain": [
              "<Figure size 432x288 with 1 Axes>"
            ]
          },
          "metadata": {
            "tags": [],
            "needs_background": "light"
          }
        }
      ]
    },
    {
      "cell_type": "markdown",
      "metadata": {
        "id": "ohcqzAXZS5Un"
      },
      "source": [
        "### Exercise: Add simulation of churn, i.e., players quitting with some probability.\n"
      ]
    },
    {
      "cell_type": "markdown",
      "metadata": {
        "id": "Sr5ps_72oHRX"
      },
      "source": [
        "Add a code cell to type in the code. **Only click to show the model solution below after you've tried to implement the code yourself.**\n",
        "\n",
        "Hint: you should be able to do this by copying the code above and making two changes: 1) add a line that defines a churnProbability, and subtract churned players from the current player count similar to how the virally recruited players are added"
      ]
    },
    {
      "cell_type": "code",
      "metadata": {
        "colab": {
          "base_uri": "https://localhost:8080/",
          "height": 298
        },
        "cellView": "form",
        "id": "UdZF_7iCS5Uo",
        "outputId": "09b9a6d7-a8f5-4c05-e5bf-109283a0c759"
      },
      "source": [
        "#@title Solution (click to show)\n",
        "#simulate\n",
        "players=1000\n",
        "viralityProbability=0.1\n",
        "churnProbability=0.1\n",
        "data=[]\n",
        "for i in range(20):\n",
        "    data.append(players)\n",
        "    players=players + viralityProbability*players - churnProbability*players\n",
        "#plot\n",
        "plt.plot(data)\n",
        "plt.xlabel(\"Days\")\n",
        "plt.ylabel(\"Players\")"
      ],
      "execution_count": null,
      "outputs": [
        {
          "output_type": "execute_result",
          "data": {
            "text/plain": [
              "Text(0, 0.5, 'Players')"
            ]
          },
          "metadata": {
            "tags": []
          },
          "execution_count": 35
        },
        {
          "output_type": "display_data",
          "data": {
            "image/png": "[encoded data removed]",
            "text/plain": [
              "<Figure size 432x288 with 1 Axes>"
            ]
          },
          "metadata": {
            "tags": [],
            "needs_background": "light"
          }
        }
      ]
    },
    {
      "cell_type": "markdown",
      "metadata": {
        "id": "bZXS_6R1S5Uo"
      },
      "source": [
        "### Parameter sliders\n",
        "\n",
        "To make adjusting the parameters a bit intuitive an visual, one can use the @param metadata. After changing a parameter's value, one must run the code again. The keyboard shortcut for that is ctrl+enter, but note that it requires that the input focus is on the code, i.e., you must click the code window after adjusting a slider. \n",
        "\n",
        "More examples: https://colab.research.google.com/notebooks/forms.ipynb "
      ]
    },
    {
      "cell_type": "code",
      "metadata": {
        "colab": {
          "base_uri": "https://localhost:8080/",
          "height": 298
        },
        "id": "9rUTLqekS5Uo",
        "outputId": "834d04f0-c65d-48d8-aa79-631b79b34c25"
      },
      "source": [
        "#simulate\n",
        "players=1000  #@param {type:\"slider\", min:0, max:1000, step:10}\n",
        "viralityProbability=0.1 #@param {type:\"slider\", min:0.0, max:1.0}\n",
        "churnProbability=0.1  #@param {type:\"slider\", min:0.0, max:1.0}\n",
        "data=[]\n",
        "for i in range(20):\n",
        "    data.append(players)\n",
        "    players=players + viralityProbability*players - churnProbability*players\n",
        "\n",
        "#plot\n",
        "plt.plot(data)\n",
        "plt.xlabel(\"Days\")\n",
        "plt.ylabel(\"Players\")"
      ],
      "execution_count": null,
      "outputs": [
        {
          "output_type": "execute_result",
          "data": {
            "text/plain": [
              "Text(0, 0.5, 'Players')"
            ]
          },
          "metadata": {
            "tags": []
          },
          "execution_count": 37
        },
        {
          "output_type": "display_data",
          "data": {
            "image/png": "[encoded data removed]",
            "text/plain": [
              "<Figure size 432x288 with 1 Axes>"
            ]
          },
          "metadata": {
            "tags": [],
            "needs_background": "light"
          }
        }
      ]
    },
    {
      "cell_type": "markdown",
      "metadata": {
        "id": "tKHRuxvoT8Th"
      },
      "source": [
        "###Multiple plots\n",
        "To show how the dynamics change with respect to some parameter, it can be useful to plot multiple curves together.\n",
        "\n",
        "We do this by first moving the simulation code inside a function, and then calling the function with different values for the virality.\n",
        "\n",
        "In Python, one defines functions with the \"def\" keyword, with a \":\" after the function name and parameters."
      ]
    },
    {
      "cell_type": "code",
      "metadata": {
        "colab": {
          "base_uri": "https://localhost:8080/",
          "height": 298
        },
        "id": "XRl1II0jT7ex",
        "outputId": "a10dfc19-a90f-4522-aa2f-71864b21135e"
      },
      "source": [
        "#The simulation function\n",
        "def simulate(viralityProbability):\n",
        "    players=1000  \n",
        "    churnProbability=0.1  \n",
        "    data=[]\n",
        "    for i in range(20):\n",
        "        data.append(players)\n",
        "        players-=churnProbability*players\n",
        "        players+=viralityProbability*players\n",
        "    return data #we return the generated list of player counts\n",
        "\n",
        "#For loop that runs multiple simulations.\n",
        "#Instead of using the range() function, one can define\n",
        "#the values looped through using a list\n",
        "for viralityProbability in [0.01,0.1,0.2]:\n",
        "    #Get the simulated player counts\n",
        "    data=simulate(viralityProbability)\n",
        "    #Plotted curves can have labels. We use .format() similar to the printouts above.\n",
        "    plt.plot(data,label=\"virality={}\".format(viralityProbability))\n",
        "\n",
        "#plot\n",
        "plt.xlabel(\"Days\")\n",
        "plt.ylabel(\"Players\")\n",
        "plt.legend() #this makes the labels visible"
      ],
      "execution_count": null,
      "outputs": [
        {
          "output_type": "execute_result",
          "data": {
            "text/plain": [
              "<matplotlib.legend.Legend at 0x7f76807e8d68>"
            ]
          },
          "metadata": {
            "tags": []
          },
          "execution_count": 24
        },
        {
          "output_type": "display_data",
          "data": {
            "image/png": "[encoded data removed]",
            "text/plain": [
              "<Figure size 432x288 with 1 Axes>"
            ]
          },
          "metadata": {
            "tags": [],
            "needs_background": "light"
          }
        }
      ]
    },
    {
      "cell_type": "markdown",
      "metadata": {
        "id": "YEqKJtt1ZmrS"
      },
      "source": [
        "###Interaction\n",
        "\n",
        "An alternative to the @param metadata is using @interact before a function definition. This adds user interface elements like sliders and the function is called whenever the user adjusts the slider.  \n",
        "\n",
        "Note that the plotting is now inside the function so that the plot gets updated whenever the user adjusts the slider.\n",
        "\n",
        "More examples can be found at https://colab.research.google.com/github/jupyter-widgets/ipywidgets/blob/master/docs/source/examples/Using%20Interact.ipynb\n"
      ]
    },
    {
      "cell_type": "code",
      "metadata": {
        "colab": {
          "base_uri": "https://localhost:8080/",
          "height": 311,
          "referenced_widgets": [
            "f63b19e1782b4507ab799152218806d7",
            "ae122fec28164b4887d55976670553b4",
            "9a4b565b7f0c40d4b66522de50234454",
            "924732d1dbf04fc1818f6f5ff9b7ba53",
            "0517463d29e34488b089f489bf887df6",
            "2ecb1f917d794e5db8e6e65ef3ed784f",
            "3188256e4a4d40dda01b2c8a662b8648"
          ]
        },
        "id": "9fyybVz0aWGE",
        "outputId": "63d260bc-7a01-4e76-a6d3-aed9d871e974"
      },
      "source": [
        "#The @interact attribute, with three numbers defining the slider min, max, step\n",
        "@interact(viralityProbability=(0,1,0.01))   \n",
        "#The function definition, which also gives the slider initial value\n",
        "def simulate(viralityProbability=0.1):      \n",
        "    players=1000  \n",
        "    churnProbability=0.1  \n",
        "    data=[]\n",
        "    for i in range(20):\n",
        "        data.append(players)\n",
        "        players=players + viralityProbability*players - churnProbability*players\n",
        "    plt.plot(data)\n",
        "    plt.xlabel(\"Days\")\n",
        "    plt.ylabel(\"Players\")\n",
        "\n"
      ],
      "execution_count": null,
      "outputs": [
        {
          "output_type": "display_data",
          "data": {
            "application/vnd.jupyter.widget-view+json": {
              "model_id": "f63b19e1782b4507ab799152218806d7",
              "version_minor": 0,
              "version_major": 2
            },
            "text/plain": [
              "interactive(children=(FloatSlider(value=0.1, description='viralityProbability', max=1.0, step=0.01), Output())…"
            ]
          },
          "metadata": {
            "tags": []
          }
        }
      ]
    },
    {
      "cell_type": "markdown",
      "metadata": {
        "id": "0uN7OgbQyqwP"
      },
      "source": [
        "### Exercises: Simulate game monetization and company cashflow\n",
        "\n",
        "In these exercises, you'll expand the simulation above to monetization and cashflow prediction.\n"
      ]
    },
    {
      "cell_type": "markdown",
      "metadata": {
        "id": "rWEZimNU0fhM"
      },
      "source": [
        "First, let's implement and plot revenue per user from both in app purchases and game purchases. Read and understand the code below, then proceed to the exercises where you'll modify it."
      ]
    },
    {
      "cell_type": "code",
      "metadata": {
        "colab": {
          "base_uri": "https://localhost:8080/",
          "height": 560
        },
        "id": "dKxXCfip03PN",
        "outputId": "dcaddde9-c0eb-4638-ebd2-c2d9db7041cb"
      },
      "source": [
        "#Define simulation parameters\n",
        "initialMarketingBudget=10000\n",
        "money=20000 \n",
        "pricePerUser=1\n",
        "viralityProbability=0.1\n",
        "churnProbability=0.1\n",
        "dailyRevenuePerPlayer=0.1\n",
        "gamePrice=0\n",
        "\n",
        "#Compute initial values: Buy some initial players\n",
        "players=initialMarketingBudget/pricePerUser\n",
        "money-=initialMarketingBudget\n",
        "money+=players*gamePrice  #if the game price >0, the initial players also bring some revenue\n",
        "\n",
        "#Lists for results\n",
        "playerCounts=[]\n",
        "moneyAmounts=[]\n",
        "\n",
        "#Simulate\n",
        "for i in range(100):\n",
        "    #Store results\n",
        "    moneyAmounts.append(money)\n",
        "    playerCounts.append(players)\n",
        "\n",
        "    #Now, we explicitly compute new and churned players\n",
        "    #and store them into variables, as we need them\n",
        "    #for the monetization calculation \n",
        "    newPlayers=viralityProbability*players \n",
        "    churnedPlayers=churnProbability*players\n",
        "\n",
        "    #Update monetization\n",
        "    money+=players*dailyRevenuePerPlayer\n",
        "    money+=gamePrice*newPlayers\n",
        "\n",
        "    #Update player count\n",
        "    players=players + newPlayers - churnedPlayers\n",
        "\n",
        "#plot players over time\n",
        "plt.plot(playerCounts)\n",
        "plt.xlabel(\"Days\")\n",
        "plt.ylabel(\"Players\")\n",
        "\n",
        "#plot money over time\n",
        "plt.figure()  #create new plot\n",
        "plt.plot(moneyAmounts)\n",
        "plt.xlabel(\"Days\")\n",
        "plt.ylabel(\"Money\")"
      ],
      "execution_count": null,
      "outputs": [
        {
          "output_type": "execute_result",
          "data": {
            "text/plain": [
              "Text(0, 0.5, 'Money')"
            ]
          },
          "metadata": {
            "tags": []
          },
          "execution_count": 41
        },
        {
          "output_type": "display_data",
          "data": {
            "image/png": "[encoded data removed]",
            "text/plain": [
              "<Figure size 432x288 with 1 Axes>"
            ]
          },
          "metadata": {
            "tags": [],
            "needs_background": "light"
          }
        },
        {
          "output_type": "display_data",
          "data": {
            "image/png": "[encoded data removed]",
            "text/plain": [
              "<Figure size 432x288 with 1 Axes>"
            ]
          },
          "metadata": {
            "tags": [],
            "needs_background": "light"
          }
        }
      ]
    },
    {
      "cell_type": "markdown",
      "metadata": {
        "id": "iLVpXQfq3lEO"
      },
      "source": [
        "**Exercise: Implement personnel costs**\n",
        "\n",
        "Add parameters: Number of employees, monthly salary (divide by 21 to get daily salary), employer auxiliary cost multiplier, and employer overheads multiplier (rent, computers, software). Update the money calculations accordingly. Add a new code cell and copy-paste the simulation code above to get started. \n",
        "\n",
        "For the auxiliary cost multiplier, you can use 1.36 (https://www.businessfinland.fi/en/do-business-with-finland/invest-in-finland/business-environment/cost-calculator). For overheads, a realistic multiplier is somewhere around 1.5 or 2.0.\n",
        "\n",
        "If you start the simulation with churnProbability=viralityProbability, you can now see how the company is making a steady loss. However, your should see that if one manages to increase virality even a bit, the initial loss will turn into exponentially increasing profits. In practice, though, achieving such virality is very hard. "
      ]
    },
    {
      "cell_type": "code",
      "metadata": {
        "colab": {
          "base_uri": "https://localhost:8080/",
          "height": 597
        },
        "cellView": "form",
        "id": "qdKzTtvH451k",
        "outputId": "704659dd-3f27-4a2d-cc1b-a7fa9e8f53e2"
      },
      "source": [
        "#@title Solution (click to show)\n",
        "#Define simulation parameters\n",
        "initialMarketingBudget=10000\n",
        "money=20000 \n",
        "pricePerUser=1\n",
        "viralityProbability=0.1\n",
        "churnProbability=0.1\n",
        "dailyRevenuePerPlayer=0.1\n",
        "employees=4\n",
        "monthlySalary=3500\n",
        "auxiliaryMultiplier=1.36\n",
        "overheadsMultiplier=1.5\n",
        "gamePrice=0\n",
        "\n",
        "#Compute and print monthly and daily burn\n",
        "monthlyBurn=employees*monthlySalary*auxiliaryMultiplier*overheadsMultiplier\n",
        "dailyBurn=monthlyBurn/21\n",
        "print(\"Monthly burn:\",monthlyBurn)\n",
        "print(\"Daily burn:\",dailyBurn)\n",
        "\n",
        "#Compute initial values: Buy some initial players\n",
        "players=initialMarketingBudget/pricePerUser\n",
        "money-=initialMarketingBudget\n",
        "money+=players*gamePrice  #if the game price >0, the initial players also bring some revenue\n",
        "\n",
        "#Lists for results\n",
        "playerCounts=[]\n",
        "moneyAmounts=[]\n",
        "\n",
        "#Simulate\n",
        "for i in range(100):\n",
        "    #Store results\n",
        "    moneyAmounts.append(money)\n",
        "    playerCounts.append(players)\n",
        "\n",
        "    #Now, we explicitly compute new and churned players\n",
        "    #and store them into variables, as we need them\n",
        "    #for the monetization calculation \n",
        "    newPlayers=viralityProbability*players \n",
        "    churnedPlayers=churnProbability*players\n",
        "\n",
        "    #Update monetization\n",
        "    money+=players*dailyRevenuePerPlayer\n",
        "    money+=gamePrice*newPlayers\n",
        "    money-=dailyBurn\n",
        "\n",
        "    #Update player count\n",
        "    players=players + newPlayers - churnedPlayers\n",
        "\n",
        "#plot players over time\n",
        "plt.plot(playerCounts)\n",
        "plt.xlabel(\"Days\")\n",
        "plt.ylabel(\"Players\")\n",
        "\n",
        "#plot money over time\n",
        "plt.figure()  #create new plot\n",
        "plt.plot(moneyAmounts)\n",
        "plt.xlabel(\"Days\")\n",
        "plt.ylabel(\"Money\")"
      ],
      "execution_count": null,
      "outputs": [
        {
          "output_type": "stream",
          "text": [
            "Monthly burn: 28560.0\n",
            "Daily burn: 1360.0\n"
          ],
          "name": "stdout"
        },
        {
          "output_type": "execute_result",
          "data": {
            "text/plain": [
              "Text(0, 0.5, 'Money')"
            ]
          },
          "metadata": {
            "tags": []
          },
          "execution_count": 46
        },
        {
          "output_type": "display_data",
          "data": {
            "image/png": "[encoded data removed]",
            "text/plain": [
              "<Figure size 432x288 with 1 Axes>"
            ]
          },
          "metadata": {
            "tags": [],
            "needs_background": "light"
          }
        },
        {
          "output_type": "display_data",
          "data": {
            "image/png": "[encoded data removed]",
            "text/plain": [
              "<Figure size 432x288 with 1 Axes>"
            ]
          },
          "metadata": {
            "tags": [],
            "needs_background": "light"
          }
        }
      ]
    },
    {
      "cell_type": "markdown",
      "metadata": {
        "id": "4gSf4b076M1u"
      },
      "source": [
        "**Exercise: Invest revenue in user acquisition**\n",
        "\n",
        "Add a parameter that defines the percentage of revenue that is invested in user acquisition. You should see that this is the key to make exponentially growing profits even if the game is not viral, but each player provides some revenue.\n",
        "\n",
        "This is basically what companies try to estimate when soft-launching games: Measure retention, virality, and average revenue per user on a small market to gain evidence of exponential growth potential and that the game or company is worth investing in.\n"
      ]
    },
    {
      "cell_type": "code",
      "metadata": {
        "colab": {
          "base_uri": "https://localhost:8080/",
          "height": 608
        },
        "cellView": "form",
        "id": "mYagVjwc7QOO",
        "outputId": "f56b33ab-4b83-495c-d5f8-de4438f8c8ac"
      },
      "source": [
        "#@title Solution (click to show)\n",
        "#Define simulation parameters\n",
        "initialMarketingBudget=10000\n",
        "money=20000 \n",
        "pricePerUser=1\n",
        "viralityProbability=0.0\n",
        "churnProbability=0.05\n",
        "dailyRevenuePerPlayer=0.1\n",
        "employees=4\n",
        "monthlySalary=3500\n",
        "auxiliaryMultiplier=1.36\n",
        "overheadsMultiplier=1.5\n",
        "gamePrice=0\n",
        "userAcquisitionPercentage=60\n",
        "\n",
        "#Compute and print monthly and daily burn\n",
        "monthlyBurn=employees*monthlySalary*auxiliaryMultiplier*overheadsMultiplier\n",
        "dailyBurn=monthlyBurn/21\n",
        "print(\"Monthly burn:\",monthlyBurn)\n",
        "print(\"Daily burn:\",dailyBurn)\n",
        "\n",
        "#Compute initial values: Buy some initial players\n",
        "players=initialMarketingBudget/pricePerUser\n",
        "money-=initialMarketingBudget\n",
        "money+=players*gamePrice  #if the game price >0, the initial players also bring some revenue\n",
        "\n",
        "#Lists for results\n",
        "playerCounts=[]\n",
        "moneyAmounts=[]\n",
        "\n",
        "#Simulate\n",
        "for i in range(365):\n",
        "    #Store results\n",
        "    moneyAmounts.append(money)\n",
        "    playerCounts.append(players)\n",
        "\n",
        "    #Now, we explicitly compute new and churned players\n",
        "    #and store them into variables, as we need them\n",
        "    #for the monetization calculation \n",
        "    viralPlayers=viralityProbability*players \n",
        "    churnedPlayers=churnProbability*players\n",
        "\n",
        "    #Update monetization and user acquisition\n",
        "    revenue=players*dailyRevenuePerPlayer+gamePrice*viralPlayers\n",
        "    userAcquisitionBudget=revenue*userAcquisitionPercentage/100\n",
        "    money=money+revenue-dailyBurn-userAcquisitionBudget\n",
        "    acquiredPlayers=userAcquisitionBudget/pricePerUser\n",
        "\n",
        "\n",
        "    #Update player count\n",
        "    players=players + acquiredPlayers + viralPlayers - churnedPlayers\n",
        "\n",
        "#plot players over time\n",
        "plt.plot(playerCounts)\n",
        "plt.xlabel(\"Days\")\n",
        "plt.ylabel(\"Players\")\n",
        "\n",
        "#plot money over time\n",
        "plt.figure()  #create new plot\n",
        "plt.plot(moneyAmounts)\n",
        "plt.xlabel(\"Days\")\n",
        "plt.ylabel(\"Money\")"
      ],
      "execution_count": null,
      "outputs": [
        {
          "output_type": "stream",
          "text": [
            "Monthly burn: 28560.0\n",
            "Daily burn: 1360.0\n"
          ],
          "name": "stdout"
        },
        {
          "output_type": "execute_result",
          "data": {
            "text/plain": [
              "Text(0, 0.5, 'Money')"
            ]
          },
          "metadata": {
            "tags": []
          },
          "execution_count": 57
        },
        {
          "output_type": "display_data",
          "data": {
            "image/png": "[encoded data removed]",
            "text/plain": [
              "<Figure size 432x288 with 1 Axes>"
            ]
          },
          "metadata": {
            "tags": [],
            "needs_background": "light"
          }
        },
        {
          "output_type": "display_data",
          "data": {
            "image/png": "[encoded data removed]",
            "text/plain": [
              "<Figure size 432x288 with 1 Axes>"
            ]
          },
          "metadata": {
            "tags": [],
            "needs_background": "light"
          }
        }
      ]
    },
    {
      "cell_type": "code",
      "metadata": {
        "id": "ipmS6tYCS5Up"
      },
      "source": [
        ""
      ],
      "execution_count": null,
      "outputs": []
    }
  ]
}