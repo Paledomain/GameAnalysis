{
  "nbformat": 4,
  "nbformat_minor": 0,
  "metadata": {
    "colab": {
      "name": "ClashRoyaleBalance.ipynb",
      "provenance": [],
      "toc_visible": true
    },
    "kernelspec": {
      "name": "python3",
      "display_name": "Python 3"
    }
  },
  "cells": [
    {
      "cell_type": "markdown",
      "metadata": {
        "id": "t2JUaefCyzou"
      },
      "source": [
        "### Clash Royale card balance analysis\n",
        "\n",
        "This notebook provides a basic game balance analysis tutorial using a Kaggle dataset of Clash Royale card stats. Click \"copy to drive\" to edit and run the code.\n",
        "\n",
        "This notebook is inspired by Stefan Engblom's [GDC talk](https://www.youtube.com/watch?v=bHLQQh8Ctu4) on balancing Clash Royale, and this [Hearthstone data science tutorial](https://www.kaggle.com/ismailgungor/data-science-tutorial-with-hearthstone-cards)"
      ]
    },
    {
      "cell_type": "markdown",
      "metadata": {
        "id": "KMNwOdlXzR9u"
      },
      "source": [
        "First, the standard imports (Numpy and PyPlot) plus Pandas for dataset utilities."
      ]
    },
    {
      "cell_type": "code",
      "metadata": {
        "id": "cX-b1_bKxYNc"
      },
      "source": [
        "import numpy as np   \n",
        "import matplotlib.pyplot as plt\n",
        "import pandas as pd  #.csv file utils etc."
      ],
      "execution_count": 32,
      "outputs": []
    },
    {
      "cell_type": "markdown",
      "metadata": {
        "id": "OZq6KodlyOr2"
      },
      "source": [
        "Fetch the dataset from the course's Github, if not already fetched (avoid duplicates if this code is run multiple times). Note that we use the \"!\" prefix to use the Linux wget command line utility. "
      ]
    },
    {
      "cell_type": "code",
      "metadata": {
        "colab": {
          "base_uri": "https://localhost:8080/"
        },
        "id": "cvSEavaTxdAS",
        "outputId": "cf14d458-f3f7-4564-cce9-246e1bfe7915"
      },
      "source": [
        "#import file path utilities\n",
        "from os import path\n",
        "#check if the dataset already exists \n",
        "if not path.exists(\"dataset.csv\"):\n",
        "  #fetch the dataset from the url. \n",
        "  !wget -O dataset.csv https://raw.githubusercontent.com/PerttuHamalainen/GameAnalysis/master/datasets/clash_wiki_dataset.csv  \n",
        "  "
      ],
      "execution_count": 33,
      "outputs": [
        {
          "output_type": "stream",
          "text": [
            "--2020-12-06 16:39:51--  https://raw.githubusercontent.com/PerttuHamalainen/GameAnalysis/master/datasets/clash_wiki_dataset.csv\n",
            "Resolving raw.githubusercontent.com (raw.githubusercontent.com)... 151.101.0.133, 151.101.64.133, 151.101.128.133, ...\n",
            "Connecting to raw.githubusercontent.com (raw.githubusercontent.com)|151.101.0.133|:443... connected.\n",
            "HTTP request sent, awaiting response... 200 OK\n",
            "Length: 4925 (4.8K) [text/plain]\n",
            "Saving to: ‘dataset.csv’\n",
            "\n",
            "\rdataset.csv           0%[                    ]       0  --.-KB/s               \rdataset.csv         100%[===================>]   4.81K  --.-KB/s    in 0s      \n",
            "\n",
            "2020-12-06 16:39:51 (50.4 MB/s) - ‘dataset.csv’ saved [4925/4925]\n",
            "\n"
          ],
          "name": "stdout"
        }
      ]
    },
    {
      "cell_type": "markdown",
      "metadata": {
        "id": "gcB5j1LcykIP"
      },
      "source": [
        "Open the dataset with Pandas and show the first few rows using the data.head() utility."
      ]
    },
    {
      "cell_type": "code",
      "metadata": {
        "colab": {
          "base_uri": "https://localhost:8080/",
          "height": 452
        },
        "id": "RGe3GO2uyVsX",
        "outputId": "e98a38a7-ec09-4fb3-bfb2-8266ad2ba112"
      },
      "source": [
        "data = pd.read_csv(\"dataset.csv\",encoding='iso-8859-1')\n",
        "data.head()"
      ],
      "execution_count": 34,
      "outputs": [
        {
          "output_type": "execute_result",
          "data": {
            "text/html": [
              "<div>\n",
              "<style scoped>\n",
              "    .dataframe tbody tr th:only-of-type {\n",
              "        vertical-align: middle;\n",
              "    }\n",
              "\n",
              "    .dataframe tbody tr th {\n",
              "        vertical-align: top;\n",
              "    }\n",
              "\n",
              "    .dataframe thead th {\n",
              "        text-align: right;\n",
              "    }\n",
              "</style>\n",
              "<table border=\"1\" class=\"dataframe\">\n",
              "  <thead>\n",
              "    <tr style=\"text-align: right;\">\n",
              "      <th></th>\n",
              "      <th>Card</th>\n",
              "      <th>Card Level (Spawn Level)</th>\n",
              "      <th>Cost</th>\n",
              "      <th>Count</th>\n",
              "      <th>Crown Tower Damage</th>\n",
              "      <th>Damage</th>\n",
              "      <th>Damage per second</th>\n",
              "      <th>Death Damage</th>\n",
              "      <th>Health (+Shield)</th>\n",
              "      <th>Hit Speed</th>\n",
              "      <th>Level</th>\n",
              "      <th>Maximum Spawned</th>\n",
              "      <th>Radius</th>\n",
              "      <th>Range</th>\n",
              "      <th>Spawn DPS</th>\n",
              "      <th>Spawn Damage</th>\n",
              "      <th>Spawn Health</th>\n",
              "      <th>Spawn Speed</th>\n",
              "      <th>Spawner Health</th>\n",
              "      <th>Troop Spawned</th>\n",
              "      <th>Type</th>\n",
              "    </tr>\n",
              "  </thead>\n",
              "  <tbody>\n",
              "    <tr>\n",
              "      <th>0</th>\n",
              "      <td>Archers</td>\n",
              "      <td>NaN</td>\n",
              "      <td>3.0</td>\n",
              "      <td>2</td>\n",
              "      <td>NaN</td>\n",
              "      <td>86</td>\n",
              "      <td>71</td>\n",
              "      <td>0.0</td>\n",
              "      <td>254</td>\n",
              "      <td>1.2</td>\n",
              "      <td>9.0</td>\n",
              "      <td>NaN</td>\n",
              "      <td>NaN</td>\n",
              "      <td>5</td>\n",
              "      <td>NaN</td>\n",
              "      <td>NaN</td>\n",
              "      <td>NaN</td>\n",
              "      <td>NaN</td>\n",
              "      <td>NaN</td>\n",
              "      <td>NaN</td>\n",
              "      <td>Troops and Defenses</td>\n",
              "    </tr>\n",
              "    <tr>\n",
              "      <th>1</th>\n",
              "      <td>Baby Dragon</td>\n",
              "      <td>NaN</td>\n",
              "      <td>4.0</td>\n",
              "      <td>1</td>\n",
              "      <td>NaN</td>\n",
              "      <td>133</td>\n",
              "      <td>83</td>\n",
              "      <td>0.0</td>\n",
              "      <td>1,064</td>\n",
              "      <td>1.6</td>\n",
              "      <td>4.0</td>\n",
              "      <td>NaN</td>\n",
              "      <td>NaN</td>\n",
              "      <td>3.5</td>\n",
              "      <td>NaN</td>\n",
              "      <td>NaN</td>\n",
              "      <td>NaN</td>\n",
              "      <td>NaN</td>\n",
              "      <td>NaN</td>\n",
              "      <td>NaN</td>\n",
              "      <td>Troops and Defenses</td>\n",
              "    </tr>\n",
              "    <tr>\n",
              "      <th>2</th>\n",
              "      <td>Balloon</td>\n",
              "      <td>NaN</td>\n",
              "      <td>5.0</td>\n",
              "      <td>1</td>\n",
              "      <td>NaN</td>\n",
              "      <td>798</td>\n",
              "      <td>266</td>\n",
              "      <td>272.0</td>\n",
              "      <td>1,396</td>\n",
              "      <td>3</td>\n",
              "      <td>4.0</td>\n",
              "      <td>NaN</td>\n",
              "      <td>NaN</td>\n",
              "      <td>0</td>\n",
              "      <td>NaN</td>\n",
              "      <td>NaN</td>\n",
              "      <td>NaN</td>\n",
              "      <td>NaN</td>\n",
              "      <td>NaN</td>\n",
              "      <td>NaN</td>\n",
              "      <td>Troops and Defenses</td>\n",
              "    </tr>\n",
              "    <tr>\n",
              "      <th>3</th>\n",
              "      <td>Bandit</td>\n",
              "      <td>NaN</td>\n",
              "      <td>3.0</td>\n",
              "      <td>1</td>\n",
              "      <td>NaN</td>\n",
              "      <td>160</td>\n",
              "      <td>160</td>\n",
              "      <td>0.0</td>\n",
              "      <td>780</td>\n",
              "      <td>1</td>\n",
              "      <td>1.0</td>\n",
              "      <td>NaN</td>\n",
              "      <td>NaN</td>\n",
              "      <td>0</td>\n",
              "      <td>NaN</td>\n",
              "      <td>NaN</td>\n",
              "      <td>NaN</td>\n",
              "      <td>NaN</td>\n",
              "      <td>NaN</td>\n",
              "      <td>NaN</td>\n",
              "      <td>Troops and Defenses</td>\n",
              "    </tr>\n",
              "    <tr>\n",
              "      <th>4</th>\n",
              "      <td>Barbarians</td>\n",
              "      <td>NaN</td>\n",
              "      <td>5.0</td>\n",
              "      <td>4</td>\n",
              "      <td>NaN</td>\n",
              "      <td>159</td>\n",
              "      <td>106</td>\n",
              "      <td>0.0</td>\n",
              "      <td>636</td>\n",
              "      <td>1.5</td>\n",
              "      <td>9.0</td>\n",
              "      <td>NaN</td>\n",
              "      <td>NaN</td>\n",
              "      <td>0</td>\n",
              "      <td>NaN</td>\n",
              "      <td>NaN</td>\n",
              "      <td>NaN</td>\n",
              "      <td>NaN</td>\n",
              "      <td>NaN</td>\n",
              "      <td>NaN</td>\n",
              "      <td>Troops and Defenses</td>\n",
              "    </tr>\n",
              "  </tbody>\n",
              "</table>\n",
              "</div>"
            ],
            "text/plain": [
              "          Card Card Level (Spawn Level)  ...  Troop Spawned                 Type\n",
              "0      Archers                      NaN  ...            NaN  Troops and Defenses\n",
              "1  Baby Dragon                      NaN  ...            NaN  Troops and Defenses\n",
              "2      Balloon                      NaN  ...            NaN  Troops and Defenses\n",
              "3       Bandit                      NaN  ...            NaN  Troops and Defenses\n",
              "4   Barbarians                      NaN  ...            NaN  Troops and Defenses\n",
              "\n",
              "[5 rows x 21 columns]"
            ]
          },
          "metadata": {
            "tags": []
          },
          "execution_count": 34
        }
      ]
    },
    {
      "cell_type": "markdown",
      "metadata": {
        "id": "53N71dgXEuQF"
      },
      "source": [
        "We see that the data is not super clean: There are many card types and for some cards, some values are NaN:s (which here signal that the value is not defined). There are also some other exceptions such as the damage per second, which is NaN for spells and numeric for other cards, except Inferno tower and Inferno dragon, where it is given as a range of values. To help dealing with this, we first define a helper function for getting a clean subset where rows containing non-numeric values are removed.\n",
        " "
      ]
    },
    {
      "cell_type": "code",
      "metadata": {
        "id": "IEHv1TKgFbqs"
      },
      "source": [
        "#Returns a new Pandas dataframe consisting of only the given columns.\n",
        "#Rows with non-numeric values are removed. \n",
        "#The columns argument can be a single column such as \"Cost\" \n",
        "#or a list such as [\"Cost\",\"Damage\"]\n",
        "#TODO: This code is ugly, figure out a more concise way.\n",
        "def getCleanSubset(data,columns):\n",
        "  subset=data[columns]  \n",
        "  #remove rows with missing values\n",
        "  subset=subset.dropna(axis=\"index\") \n",
        "  #remove rows with something that cannot be expressed as a number\n",
        "  if isinstance(columns,list):\n",
        "    for column in columns:\n",
        "      subset=subset[pd.to_numeric(subset[column], errors='coerce').notnull()]\n",
        "  else: \n",
        "    subset=subset[pd.to_numeric(subset, errors='coerce').notnull()]\n",
        "  #now we can convert everything to numbers for easier plotting etc. \n",
        "  subset=subset.apply(pd.to_numeric)\n",
        "  return subset"
      ],
      "execution_count": 109,
      "outputs": []
    },
    {
      "cell_type": "markdown",
      "metadata": {
        "id": "Bc0yjtuz0q2n"
      },
      "source": [
        "### Analyzing cost and benefit of cards using scatter plots and correlation\n",
        "\n",
        "In Clash Royale, the player has a deck of 8 cards, and deploying each card costs elixir, which is only slowly replenished. The key to winning is investing elixir smartly, getting maximum benefits for each drop of elixir spent. Thus, cards with a high elixir cost are typically more powerful.\n",
        "\n",
        "The basic problem of balancing the card stats is to keep the cost/benefit ratios of the cards constant so that no card provides a clearly better or worse ratio. This is important for the meta game (i.e., how the players choose and optimize their card decks) to have variety, i.e., all cards to have approximately similar use rates. If there were clearly superior cards, every player would use them and the meta would become boring.\n",
        "\n",
        "To investigate this, let's plot some card stats with respect to the elixir cost and their correlation coefficients. A correlation of 1 would mean that the stat in question is directly proportional to cost. Correlation of 0 indicates no relation, and negative correlations indicate inverse proportionality."
      ]
    },
    {
      "cell_type": "code",
      "metadata": {
        "colab": {
          "base_uri": "https://localhost:8080/",
          "height": 298
        },
        "id": "VrCaot9j2YZ3",
        "outputId": "50474092-3df5-4c6a-97e1-4719fae5695c"
      },
      "source": [
        "subset=getCleanSubset(data,[\"Health (+Shield)\",\"Cost\"])\n",
        "subset.plot.scatter(x=\"Cost\",y=\"Health (+Shield)\")\n",
        "print(\"Correlation:\",subset[\"Cost\"].corr(subset[\"Health (+Shield)\"]))"
      ],
      "execution_count": 115,
      "outputs": [
        {
          "output_type": "stream",
          "text": [
            "Correlation: 0.542788417763317\n"
          ],
          "name": "stdout"
        },
        {
          "output_type": "display_data",
          "data": {
            "image/png": "[encoded data removed]",
            "text/plain": [
              "<Figure size 432x288 with 1 Axes>"
            ]
          },
          "metadata": {
            "tags": [],
            "needs_background": "light"
          }
        }
      ]
    },
    {
      "cell_type": "markdown",
      "metadata": {
        "id": "hGeCCzYOVTEh"
      },
      "source": [
        "###Exercise: Do the same with some other values\n",
        "\n",
        "Add a new code cell below this text, copy-paste the code above to it, and edit it. Which values are highly correlated with the cost?"
      ]
    },
    {
      "cell_type": "markdown",
      "metadata": {
        "id": "tI7gZEs4VhDx"
      },
      "source": [
        "####Solution (expand to show code)"
      ]
    },
    {
      "cell_type": "code",
      "metadata": {
        "colab": {
          "base_uri": "https://localhost:8080/",
          "height": 298
        },
        "id": "nX8Q0nAUDycs",
        "outputId": "1d5d62bc-1530-4164-a238-c14c584a4ca7"
      },
      "source": [
        "subset=getCleanSubset(data,[\"Damage per second\",\"Cost\"])\n",
        "subset.plot.scatter(x=\"Cost\",y=\"Damage per second\")\n",
        "print(\"Correlation:\",subset[\"Cost\"].corr(subset[\"Damage per second\"]))"
      ],
      "execution_count": 130,
      "outputs": [
        {
          "output_type": "stream",
          "text": [
            "Correlation: 0.3795885518967999\n"
          ],
          "name": "stdout"
        },
        {
          "output_type": "display_data",
          "data": {
            "image/png": "[encoded data removed]",
            "text/plain": [
              "<Figure size 432x288 with 1 Axes>"
            ]
          },
          "metadata": {
            "tags": [],
            "needs_background": "light"
          }
        }
      ]
    },
    {
      "cell_type": "markdown",
      "metadata": {
        "id": "WVQB8EFKVraD"
      },
      "source": [
        "###Calculating benefit based on multiple values\n",
        "The code below shows how to perform math on Pandas dataframe columns and add the results as a new column. We call this column \"Benefit\" and calculate it as the sum of damage per second and health. This yields a tiny bit better correlation (to be improved in the exercise that follows)."
      ]
    },
    {
      "cell_type": "code",
      "metadata": {
        "colab": {
          "base_uri": "https://localhost:8080/",
          "height": 298
        },
        "id": "rStLqIX6V1rT",
        "outputId": "91390d04-702f-4ad0-eaed-c9b0ed96ce7a"
      },
      "source": [
        "#Example of adding a new column that combines existing ones\n",
        "s=getCleanSubset(data,[\"Damage per second\",\"Health (+Shield)\",\"Cost\"])\n",
        "s[\"Benefit\"]=s[\"Damage per second\"]+s[\"Health (+Shield)\"]\n",
        "s.plot.scatter(x=\"Cost\",y=\"Benefit\")\n",
        "print(\"Correlation:\",s[\"Cost\"].corr(s[\"Benefit\"]))"
      ],
      "execution_count": 129,
      "outputs": [
        {
          "output_type": "stream",
          "text": [
            "Correlation: 0.5556838560806563\n"
          ],
          "name": "stdout"
        },
        {
          "output_type": "display_data",
          "data": {
            "image/png": "[encoded data removed]",
            "text/plain": [
              "<Figure size 432x288 with 1 Axes>"
            ]
          },
          "metadata": {
            "tags": [],
            "needs_background": "light"
          }
        }
      ]
    },
    {
      "cell_type": "markdown",
      "metadata": {
        "id": "gYbBgAH-Lbv2"
      },
      "source": [
        "###Exercise: Improve the benefit calculation\n",
        "Improve the code above by figuring out how to combine at least three stats. \n",
        "\n",
        "How close to 1 can you get the correlation? If you can get a correlation of 1, you have reverse-engineered how Clash Royale designers balance the stats.\n"
      ]
    },
    {
      "cell_type": "markdown",
      "metadata": {
        "id": "QQIUJMigTIQp"
      },
      "source": [
        "####Hint: (expand this section to show)\n"
      ]
    },
    {
      "cell_type": "markdown",
      "metadata": {
        "id": "6FpvQFjnTl_g"
      },
      "source": [
        "Try using \"Damage per second\", \"Count\", and \"Health (+Shield)\". Note that you can use all basic math operations such as multiplication and addition. Consider that the total damage caused by a troop depends on both damage per second and the troop's lifespan, and the lifespan depends on health."
      ]
    },
    {
      "cell_type": "markdown",
      "metadata": {
        "id": "UfGp2HqNXMvC"
      },
      "source": [
        "####Solution: (expand this section to show)"
      ]
    },
    {
      "cell_type": "markdown",
      "metadata": {
        "id": "vv4Gi39YXd9K"
      },
      "source": [
        "In this example solution (which is not the only possible one), we multiply the DPS, count, and health together. This way, the benefit is calculated as the total damage the a troop (or a swarm of \"Count\" units) might deal to an opponent. \n",
        "\n",
        "Of course, this is still a simple approximation, omitting details like a swarm being weak against splash damage."
      ]
    },
    {
      "cell_type": "code",
      "metadata": {
        "colab": {
          "base_uri": "https://localhost:8080/",
          "height": 298
        },
        "id": "nCI08g3zEdz8",
        "outputId": "30c26373-1a89-4384-eb80-568b9fec8587"
      },
      "source": [
        "s=getCleanSubset(data,[\"Damage per second\",\"Count\",\"Health (+Shield)\",\"Cost\"])\n",
        "s[\"Benefit\"]=s[\"Count\"]*s[\"Damage per second\"]*s[\"Health (+Shield)\"]\n",
        "s.plot.scatter(x=\"Cost\",y=\"Benefit\")\n",
        "print(\"Correlation:\",s[\"Cost\"].corr(s[\"Benefit\"]))"
      ],
      "execution_count": 128,
      "outputs": [
        {
          "output_type": "stream",
          "text": [
            "Correlation: 0.7285591563261166\n"
          ],
          "name": "stdout"
        },
        {
          "output_type": "display_data",
          "data": {
            "image/png": "[encoded data removed]",
            "text/plain": [
              "<Figure size 432x288 with 1 Axes>"
            ]
          },
          "metadata": {
            "tags": [],
            "needs_background": "light"
          }
        }
      ]
    },
    {
      "cell_type": "markdown",
      "metadata": {
        "id": "eAbzS5NsY8qT"
      },
      "source": [
        "###Advanced exercise: \n",
        "Extend the benefit calculation to all card types. You may need to loop over all cards in a for loop and do the benefit calculation differently for each type. Also try to incorporate mechanics like death damage and ranged attacks.\n",
        "\n",
        "How close to 1 can you get the correlation?"
      ]
    },
    {
      "cell_type": "markdown",
      "metadata": {
        "id": "jVXpSEAUZtV1"
      },
      "source": [
        "###Advanced exercise:\n",
        "The dataset we use is old and does not include all the cards of the current Clash Royale version. Write Python code the scrapes the current stats from a website like https://clashroyale.fandom.com/wiki/Cards \n",
        "\n"
      ]
    }
  ]
}